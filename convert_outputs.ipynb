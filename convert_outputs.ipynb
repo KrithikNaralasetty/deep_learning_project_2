{
 "cells": [
  {
   "cell_type": "code",
   "execution_count": 22,
   "metadata": {},
   "outputs": [],
   "source": [
    "import os\n",
    "\n",
    "emp = 0\n",
    "path = \"./yolov5/runs/detect/exp19/labels/\"\n",
    "read_files = os.listdir(path)\n",
    "# print(read_files)"
   ]
  },
  {
   "cell_type": "code",
   "execution_count": 23,
   "metadata": {},
   "outputs": [],
   "source": [
    "temp1 = 0\n",
    "f = open('./results_yl_19.txt', 'w')\n",
    "temp1 = 0\n",
    "for i in read_files:\n",
    "    temp = open(path+i)\n",
    "    lines = temp.readlines()\n",
    "    for j in lines:\n",
    "        x = j.split(\" \")\n",
    "        x[0] = str(int(x[0])+1)\n",
    "        x = \" \".join(x)\n",
    "        f.write((i[:5])+ \" \" + str(x))"
   ]
  },
  {
   "cell_type": "code",
   "execution_count": 24,
   "metadata": {},
   "outputs": [],
   "source": [
    "f.close()"
   ]
  },
  {
   "cell_type": "code",
   "execution_count": null,
   "metadata": {},
   "outputs": [],
   "source": []
  }
 ],
 "metadata": {
  "kernelspec": {
   "display_name": "hubpy3.7-tf2.3",
   "language": "python",
   "name": "hubpy3.7-tf2.3"
  },
  "language_info": {
   "codemirror_mode": {
    "name": "ipython",
    "version": 3
   },
   "file_extension": ".py",
   "mimetype": "text/x-python",
   "name": "python",
   "nbconvert_exporter": "python",
   "pygments_lexer": "ipython3",
   "version": "3.7.4"
  }
 },
 "nbformat": 4,
 "nbformat_minor": 4
}
